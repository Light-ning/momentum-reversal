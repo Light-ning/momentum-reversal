{
 "cells": [
  {
   "cell_type": "code",
   "execution_count": 1,
   "id": "325ba88b-52b7-49fd-b24c-4c48ab7eb6fc",
   "metadata": {},
   "outputs": [],
   "source": [
    "import numpy as np\n",
    "import pandas as pd\n",
    "import feather\n",
    "from matplotlib import pyplot as plt"
   ]
  },
  {
   "cell_type": "code",
   "execution_count": 9,
   "id": "be0ff01f-cf38-4849-a5fc-0f7b60d66fb9",
   "metadata": {},
   "outputs": [],
   "source": [
    "# tr = feather.read_dataframe('../data/factor_rev_60m/tr_excess_risk_norm_only_rev_60m.feather')\n",
    "# avt = feather.read_dataframe('../data/factor_rev_60m/avt_excess_risk_norm_only_rev_60m.feather')\n",
    "# avaluet = feather.read_dataframe('../data/factor_rev_60m/avaluet_excess_risk_norm_only_rev_60m.feather')\n",
    "tr = feather.read_dataframe('../data/factor_rev_60m/tr_only_rev_60m.feather')\n",
    "avt = feather.read_dataframe('../data/factor_rev_60m/avt_only_rev_60m.feather')\n",
    "avaluet = feather.read_dataframe('../data/factor_rev_60m/avaluet_only_rev_60m.feather')"
   ]
  },
  {
   "cell_type": "code",
   "execution_count": 10,
   "id": "6fd4d7f2-148c-4c30-b624-10f49ba3d6f3",
   "metadata": {},
   "outputs": [
    {
     "name": "stdout",
     "output_type": "stream",
     "text": [
      "0.7193296681921838\n",
      "0.9457891258731199\n",
      "0.7745114212610116\n"
     ]
    }
   ],
   "source": [
    "print(tr['rev'].corr(avt['rev'], method='spearman'))\n",
    "print(avt['rev'].corr(avaluet['rev'], method='spearman'))\n",
    "print(avaluet['rev'].corr(tr['rev'], method='spearman'))"
   ]
  }
 ],
 "metadata": {
  "kernelspec": {
   "display_name": "Python 3 (ipykernel)",
   "language": "python",
   "name": "python3"
  },
  "language_info": {
   "codemirror_mode": {
    "name": "ipython",
    "version": 3
   },
   "file_extension": ".py",
   "mimetype": "text/x-python",
   "name": "python",
   "nbconvert_exporter": "python",
   "pygments_lexer": "ipython3",
   "version": "3.11.9"
  }
 },
 "nbformat": 4,
 "nbformat_minor": 5
}
