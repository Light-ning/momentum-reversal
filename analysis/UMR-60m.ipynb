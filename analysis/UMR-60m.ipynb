{
 "cells": [
  {
   "cell_type": "markdown",
   "id": "4c212162-a0c4-4a60-9d2d-58e264885dac",
   "metadata": {},
   "source": [
    "# UMR"
   ]
  },
  {
   "cell_type": "markdown",
   "id": "029de611-021a-4722-8c77-fc573b9bf86c",
   "metadata": {},
   "source": [
    "## 导入模块"
   ]
  },
  {
   "cell_type": "code",
   "execution_count": 1,
   "id": "e3ff63a8-3f36-4413-879c-bd57d8741040",
   "metadata": {},
   "outputs": [],
   "source": [
    "import numpy as np\n",
    "import pandas as pd\n",
    "import feather\n",
    "import os\n",
    "from matplotlib import pyplot as plt"
   ]
  },
  {
   "cell_type": "markdown",
   "id": "ff25eb15-9558-4b73-8117-22b60e269610",
   "metadata": {},
   "source": [
    "## 读入数据"
   ]
  },
  {
   "cell_type": "code",
   "execution_count": 2,
   "id": "2b0ae771-6310-412b-973f-900c8563a2b6",
   "metadata": {},
   "outputs": [],
   "source": [
    "start_date = pd.to_datetime('2023-01-01')\n",
    "start_date_redundancy = pd.to_datetime('2022-10-01')\n",
    "end_date = pd.to_datetime('2023-12-31')"
   ]
  },
  {
   "cell_type": "markdown",
   "id": "1742e69b-a8a3-42c3-8f2b-936c96995627",
   "metadata": {},
   "source": [
    "### 指数数据"
   ]
  },
  {
   "cell_type": "code",
   "execution_count": 3,
   "id": "0f053223-00d2-4ec9-adda-9a0d23c8dfff",
   "metadata": {},
   "outputs": [],
   "source": [
    "hs500 = feather.read_dataframe('../data/IndexPriceK1m_000905.feather')\n",
    "\n",
    "hs500['date'] = pd.to_datetime(hs500['date'], format='ISO8601')\n",
    "hs500 = hs500[(hs500['date'] >= start_date_redundancy) & (hs500['date'] <= end_date)]\n",
    "\n",
    "trade_time = hs500['time'].unique()\n",
    "map_trade_time = {t: t - 100 for t in trade_time}\n",
    "map_trade_time[100000] = 95900\n",
    "map_trade_time[110000] = 105900\n",
    "map_trade_time[140000] = 135900\n",
    "map_trade_time[150000] = 145900\n",
    "hs500['time'] = hs500['time'].apply(map_trade_time.get)\n",
    "\n",
    "time_60m = [102900, 112900, 135900, 145300, 145900]\n",
    "hs500 = hs500[hs500['time'].isin(time_60m)]\n",
    "hs500['ret_index'] = hs500['close'] / hs500['close'].shift(1) - 1"
   ]
  },
  {
   "cell_type": "markdown",
   "id": "8b53638c-c0c9-4169-9e49-6a81535af39b",
   "metadata": {},
   "source": [
    "### 60 分钟线数据"
   ]
  },
  {
   "cell_type": "code",
   "execution_count": 4,
   "id": "122ce1ba-8483-4896-8b55-5f34b649ae88",
   "metadata": {},
   "outputs": [],
   "source": [
    "def normalize(ret:pd.Series) -> pd.Series:\n",
    "    return ret.sub(ret.mean()).div(ret.std())"
   ]
  },
  {
   "cell_type": "code",
   "execution_count": 5,
   "id": "3f1b9110-1821-4e33-b037-e050f068a9bb",
   "metadata": {},
   "outputs": [],
   "source": [
    "price_60m = feather.read_dataframe('../data/StockPriceK60m_cache.feather')\n",
    "price_60m = price_60m[(price_60m['date'] >= start_date_redundancy) & (price_60m['date'] <= end_date)]\n",
    "price_60m['close_prev'] = price_60m.groupby('issue')['close'].shift(1)\n",
    "price_60m['ret'] = price_60m['close'] / price_60m['close_prev'] - 1\n",
    "price_60m = pd.merge(\n",
    "    price_60m,\n",
    "    hs500[['date', 'time', 'ret_index']],\n",
    "    on=['date', 'time'],\n",
    "    how='left'\n",
    ")\n",
    "price_60m['excess'] = price_60m['ret'] - price_60m['ret_index']\n",
    "price_60m = price_60m[price_60m['time'] != 145900]"
   ]
  },
  {
   "cell_type": "markdown",
   "id": "a3d11e3c-d767-4fab-8a32-13f5c1c6a43b",
   "metadata": {},
   "source": [
    "## 计算风险指标"
   ]
  },
  {
   "cell_type": "markdown",
   "id": "9b771b15-8f87-4756-8814-244e950dba4d",
   "metadata": {},
   "source": [
    "### 计算调整后风险系数"
   ]
  },
  {
   "cell_type": "code",
   "execution_count": 6,
   "id": "f3c2a22c-34f3-49c5-be65-bd427c30bfee",
   "metadata": {},
   "outputs": [],
   "source": [
    "def risk_calc(r:pd.Series, d:int=10) -> pd.Series:\n",
    "    return r.rolling(d, min_periods=1).mean() - r\n",
    "\n",
    "def risk_calc_norm(r:pd.Series, d:int=10) -> pd.Series:\n",
    "    roll = r.rolling(d, min_periods=1)\n",
    "    return (roll.mean() - r) / roll.std()"
   ]
  },
  {
   "cell_type": "markdown",
   "id": "f9165736-dc54-45a3-a0c0-c3c4d8bd4edc",
   "metadata": {},
   "source": [
    "### 真实波动"
   ]
  },
  {
   "cell_type": "code",
   "execution_count": 7,
   "id": "00be003e-312d-4ec6-9a31-1803a432fd41",
   "metadata": {},
   "outputs": [],
   "source": [
    "def tr_calc(price_60m:pd.DataFrame) -> pd.DataFrame:\n",
    "    tr = price_60m[['datetime', 'issue']].copy()\n",
    "    tr['tr1'] = price_60m['high'] - price_60m['low']\n",
    "    tr['tr2'] = np.abs(price_60m['high'] - price_60m['close_prev'])\n",
    "    tr['tr3'] = np.abs(price_60m['low'] - price_60m['close_prev'])\n",
    "    tr['r'] = tr[['tr1', 'tr2', 'tr3']].max(axis=1) / price_60m['close_prev']\n",
    "    return tr[['datetime', 'issue', 'r']]"
   ]
  },
  {
   "cell_type": "markdown",
   "id": "aead4591-00ec-407e-a82e-dcfb685133da",
   "metadata": {},
   "source": [
    "### 平均单笔成交量"
   ]
  },
  {
   "cell_type": "code",
   "execution_count": 8,
   "id": "4ff9e9c5-97df-4420-bd16-3c12887b63ca",
   "metadata": {},
   "outputs": [],
   "source": [
    "def avt_calc(price_60m:pd.DataFrame) -> pd.DataFrame:\n",
    "    avt = price_60m[['datetime', 'issue']].copy()\n",
    "    avt['r'] = np.sqrt(price_60m['volume'] / price_60m['num_trades'])\n",
    "    return avt[['datetime', 'issue', 'r']]"
   ]
  },
  {
   "cell_type": "markdown",
   "id": "42f240ab-2cba-4f40-a982-68ebb2264682",
   "metadata": {},
   "source": [
    "### 平均单笔成交额"
   ]
  },
  {
   "cell_type": "code",
   "execution_count": 9,
   "id": "0e96b06b-6f41-4fa9-a31e-4249de3f93c8",
   "metadata": {},
   "outputs": [],
   "source": [
    "def avaluet_calc(price_60m:pd.DataFrame) -> pd.DataFrame:\n",
    "    avaluet = price_60m[['datetime', 'issue']].copy()\n",
    "    avaluet['r'] = np.sqrt(price_60m['value'] / price_60m['num_trades'])\n",
    "    return avaluet[['datetime', 'issue', 'r']]"
   ]
  },
  {
   "cell_type": "markdown",
   "id": "3d9535ee-e4a3-40f3-8b60-da51c06dc0ea",
   "metadata": {},
   "source": [
    "## 计算动量反转因子"
   ]
  },
  {
   "cell_type": "code",
   "execution_count": 10,
   "id": "336614d0-6645-4247-bd14-72bb8971129a",
   "metadata": {},
   "outputs": [],
   "source": [
    "def remove_neg(risk:pd.Series, sigma:float=0.) -> pd.Series:\n",
    "    rc = risk.copy()\n",
    "    rc_std = rc.std()\n",
    "    rc[rc > -sigma * rc_std] = 0\n",
    "    return rc"
   ]
  },
  {
   "cell_type": "code",
   "execution_count": 11,
   "id": "3e97dd94-7137-4501-af84-250d563016c2",
   "metadata": {},
   "outputs": [],
   "source": [
    "def umr_factor_gen(label:str):  \n",
    "    if 'tr' in label:\n",
    "        r_calc = tr_calc\n",
    "    elif 'avt' in label:\n",
    "        r_calc = avt_calc\n",
    "    elif 'avaluet' in label:\n",
    "        r_calc = avaluet_calc\n",
    "        \n",
    "    risk = r_calc(price_60m)\n",
    "    risk['risk'] = risk.groupby('issue')['r'].transform(risk_calc)\n",
    "    \n",
    "    ret_risk = pd.merge(\n",
    "        price_60m[['datetime', 'issue', 'excess']],\n",
    "        risk[['datetime', 'issue', 'risk']],\n",
    "        on=['datetime', 'issue'],\n",
    "        how='outer'\n",
    "    )\n",
    "    # ret_risk = price_60m[['datetime', 'issue', 'excess']].copy()\n",
    "    # ret_risk['risk'] = -1\n",
    "    if 'excess' in label:\n",
    "        ret_risk['excess'] = ret_risk.groupby('datetime')['excess'].transform(normalize)\n",
    "    if 'risk' in label:\n",
    "        ret_risk['risk'] = ret_risk.groupby('datetime')['risk'].transform(normalize)\n",
    "    if 'only' in label:\n",
    "        ret_risk.loc[ret_risk['risk'] > 0, 'risk'] = 0\n",
    "        # ret_risk['risk'] = ret_risk.groupby('datetime')['risk'].transform(remove_neg, sigma=1.0)\n",
    "    \n",
    "    def rev_calc(ret_risk:pd.DataFrame, weight:np.array) -> pd.Series:\n",
    "        rev = np.convolve(ret_risk['risk'] * ret_risk['excess'], weight, mode='full')[:len(ret_risk)]\n",
    "        return pd.Series(rev, index=ret_risk.index, name='rev')\n",
    "    \n",
    "    def rev_calc_nodecay(ret_risk:pd.DataFrame, m:int=60) -> pd.Series:\n",
    "        rev = ret_risk['excess'].mul(ret_risk['risk']).rolling(m, min_periods=1).sum()\n",
    "        return rev\n",
    "    \n",
    "    m = 60\n",
    "    H = m / 2\n",
    "    w = 2 ** (-np.arange(m) / H)\n",
    "    w /= w.sum()\n",
    "    # ret_risk['rev'] = ret_risk.groupby('issue', group_keys=False)[['excess', 'risk']].apply(rev_calc_nodecay)\n",
    "    ret_risk['rev'] = ret_risk.groupby('issue', group_keys=False)[['excess', 'risk']].apply(rev_calc, weight=w)\n",
    "    \n",
    "    os.makedirs('../data/factor_rev_60m/', exist_ok=True)\n",
    "    feather.write_dataframe(ret_risk, f'../data/factor_rev_60m/{label}_rev_60m.feather')"
   ]
  },
  {
   "cell_type": "code",
   "execution_count": 12,
   "id": "934bfd52-1636-40c3-a38f-70ad542675eb",
   "metadata": {},
   "outputs": [
    {
     "name": "stdout",
     "output_type": "stream",
     "text": [
      "avt\n",
      "avt_excess_norm\n",
      "avt_risk_norm\n",
      "avt_excess_risk_norm\n",
      "avt_only\n",
      "avt_excess_norm_only\n",
      "avt_risk_norm_only\n",
      "avt_excess_risk_norm_only\n"
     ]
    }
   ],
   "source": [
    "core = 'avt'\n",
    "labels = np.array(['', '_excess_norm', '_risk_norm', '_excess_risk_norm'])\n",
    "labels = np.concat([core + labels, core + labels + '_only'])\n",
    "for label in labels:\n",
    "    umr_factor_gen(label)\n",
    "    print(label)"
   ]
  }
 ],
 "metadata": {
  "kernelspec": {
   "display_name": "Python 3 (ipykernel)",
   "language": "python",
   "name": "python3"
  },
  "language_info": {
   "codemirror_mode": {
    "name": "ipython",
    "version": 3
   },
   "file_extension": ".py",
   "mimetype": "text/x-python",
   "name": "python",
   "nbconvert_exporter": "python",
   "pygments_lexer": "ipython3",
   "version": "3.11.9"
  }
 },
 "nbformat": 4,
 "nbformat_minor": 5
}
